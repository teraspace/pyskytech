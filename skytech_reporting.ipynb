{
 "cells": [
  {
   "cell_type": "code",
   "execution_count": 1,
   "metadata": {},
   "outputs": [],
   "source": [
    "def fields(cursor):\n",
    "    \"\"\" Given a DB API 2.0 cursor object that has been executed, returns\n",
    "    a dictionary that maps each field name to a column index; 0 and up. \"\"\"\n",
    "    results = []\n",
    "    column = 0\n",
    "    for d in cursor.description:\n",
    "        results.insert(column, d[0])\n",
    "        column = column + 1\n",
    "\n",
    "    return results"
   ]
  },
  {
   "cell_type": "code",
   "execution_count": 2,
   "metadata": {},
   "outputs": [],
   "source": [
    "# to parse the timestamps for this person\n",
    "def process_datetime(dt):\n",
    "    '''a simple function to parse string time into several components'''\n",
    "    dt = datetime.strptime(dt, '%Y-%m-%d %H:%M:%S')\n",
    "    return [dt.weekday(), dt.hour]  # you can modify here to get other time components"
   ]
  },
  {
   "cell_type": "code",
   "execution_count": 3,
   "metadata": {},
   "outputs": [],
   "source": [
    "import cx_Oracle\n",
    "import pandas as pd\n",
    "from pandas import DataFrame\n",
    "from pandas import TimeGrouper\n",
    "from pandas import Series\n",
    "import numpy as np\n",
    "import matplotlib\n",
    "import matplotlib.pyplot as plt\n",
    "import datetime\n",
    "import seaborn as sns\n",
    "import plotly\n",
    "plotly.tools.set_credentials_file(username='carlosman79', api_key='hr7364U5bGLVEEsqNZmr')\n",
    "import plotly.plotly as py\n",
    "import plotly.graph_objs as go\n",
    "from pandas import TimeGrouper\n",
    "\n",
    "cx_Oracle.clientversion()\n",
    "global df_translations\n",
    "df_translations = None\n",
    "\n"
   ]
  },
  {
   "cell_type": "code",
   "execution_count": 4,
   "metadata": {},
   "outputs": [],
   "source": [
    "global df_translations\n",
    "\n",
    "def query_translator(locale):\n",
    "    conn = cx_Oracle.connect(\"skytech\", \"skytech\", \"oracle.geotech.com.co/geotech\")\n",
    "    sql = \"SELECT * from translations where locale = :locale\"\n",
    "    curs = conn.cursor()\n",
    "    curs.prepare(sql)\n",
    "    curs.execute(None, {'locale': locale})\n",
    "    df_translator = DataFrame(curs.fetchall())\n",
    "    \n",
    "    c = 0\n",
    "    column_names = []\n",
    "    for column in curs.description:\n",
    "        column_names.append(curs.description[c][0])\n",
    "        c += 1\n",
    "    print(column_names)\n",
    "    df_translator.columns = column_names\n",
    "    conn.close()\n",
    "    return df_translator\n",
    "    #df_translator = pd.read_sql(sql, conn, parse_dates=True)"
   ]
  },
  {
   "cell_type": "code",
   "execution_count": 5,
   "metadata": {},
   "outputs": [],
   "source": [
    "global df_translations\n",
    "def query_translator_words(locale):\n",
    "    conn = cx_Oracle.connect(\"skytech\", \"skytech\", \"oracle.geotech.com.co/geotech\")\n",
    "    words =  str(words).replace('[','').replace(']','').replace('\"', '\\'')  \n",
    "    sql = \"SELECT * from translations where locale = :locale and key in (\" + words + \")\"\n",
    "    curs = conn.cursor()\n",
    "    curs.prepare(sql)\n",
    "    curs.execute(None, {'locale': locale})\n",
    "    df_translator = DataFrame(curs.fetchall())\n",
    "    \n",
    "    c = 0\n",
    "    column_names = []\n",
    "    for column in curs.description:\n",
    "        column_names.append(curs.description[c][0])\n",
    "        c += 1\n",
    "    print(column_names)\n",
    "    df_translator.columns = column_names\n",
    "    conn.close()\n",
    "    return df_translator"
   ]
  },
  {
   "cell_type": "code",
   "execution_count": 6,
   "metadata": {},
   "outputs": [],
   "source": [
    "def translate(key, words):\n",
    "    global df_translations\n",
    "    if ( not isinstance( df_translations, (DataFrame)  ) ):\n",
    "        if (words==None):\n",
    "            df_translations = query_translator('es')\n",
    "        else:\n",
    "            df_translations = query_translator('es', words)\n",
    "        #print(type(df_translations))\n",
    "    #filter = df_translations[\"KEY\"]==key\n",
    "    df_found = df_translations[df_translations.KEY == key.lower()]\n",
    "    try:\n",
    "        return df_found.VALUE.item()\n",
    "    except:\n",
    "        return key"
   ]
  },
  {
   "cell_type": "code",
   "execution_count": 7,
   "metadata": {},
   "outputs": [
    {
     "data": {
      "text/plain": [
       "'soat'"
      ]
     },
     "execution_count": 7,
     "metadata": {},
     "output_type": "execute_result"
    }
   ],
   "source": [
    "'soat'.lower()"
   ]
  },
  {
   "cell_type": "code",
   "execution_count": 8,
   "metadata": {},
   "outputs": [
    {
     "ename": "TypeError",
     "evalue": "translate() missing 1 required positional argument: 'words'",
     "output_type": "error",
     "traceback": [
      "\u001b[0;31m---------------------------------------------------------------------------\u001b[0m",
      "\u001b[0;31mTypeError\u001b[0m                                 Traceback (most recent call last)",
      "\u001b[0;32m<ipython-input-8-d72c0234cda6>\u001b[0m in \u001b[0;36m<module>\u001b[0;34m\u001b[0m\n\u001b[0;32m----> 1\u001b[0;31m \u001b[0mprint\u001b[0m\u001b[0;34m(\u001b[0m\u001b[0mtranslate\u001b[0m\u001b[0;34m(\u001b[0m\u001b[0;34m'soat'\u001b[0m\u001b[0;34m)\u001b[0m\u001b[0;34m)\u001b[0m\u001b[0;34m\u001b[0m\u001b[0;34m\u001b[0m\u001b[0m\n\u001b[0m",
      "\u001b[0;31mTypeError\u001b[0m: translate() missing 1 required positional argument: 'words'"
     ]
    }
   ],
   "source": [
    "print(translate('soat'))"
   ]
  },
  {
   "cell_type": "code",
   "execution_count": 9,
   "metadata": {},
   "outputs": [],
   "source": [
    "def query_incidents(args):\n",
    "    conn = cx_Oracle.connect(\"skytech\", \"skytech\", \"oracle.geotech.com.co/geotech\")\n",
    "    plates =  args.get('plates').replace('[','').replace(']','').replace('\"', '\\'')  \n",
    "    \n",
    "    \n",
    "    events = []\n",
    "    for e in args.get('event_ids').replace('[','').replace(']','').replace('\"', '\\'').split(','):\n",
    "            events.append(str(e))\n",
    "\n",
    "            \n",
    "    events =  str(args.get('event_ids')).replace('[','').replace(']','').replace('\"', '\\'')\n",
    "    #print(events)\n",
    "    #print(plates)\n",
    "    sql = \"SELECT /*+ index(INCIDENTS,INCIDENTS_INDEX3CDESC) */ incidents.ID, incidents.PLATE, incidents.ADDRESS,X, Y, DATE_ENTRY as date_entry_date , DATE_SYSTEM AS date_system_date,to_char( DATE_ENTRY, 'dd/mm/yyyy hh24:mi:ss' ) as DATE_ENTRY , to_char( DATE_SYSTEM, 'dd/mm/yyyy hh24:mi:ss' ) as DATE_SYSTEM ,to_timestamp( to_char(DATE_ENTRY, 'dd/mm/yyyy hh24:mi:ss'), 'dd/mm/yyyy hh24:mi:ss' ) as date_time_entry ,ORIENTATION,SPEED,incidents.MOBILE_ID,incidents.EVENT_ID, incidents.VALUE,incidents.description as DESCRIPTION_EVENT, incidents.description as event_name,BATTERY,SHEET,null as camera  ,incidents.INTERNAL_CODE  FROM incidents left join  \\\"OWNER_PLATES\\\" pl ON pl.plate=incidents.plate and pl.owner_id = :owner_id left join  \\\"OWNER_EVENTS\\\" ev ON ev.event_id=incidents.event_id and ev.owner_id = :owner_id left join  \\\"OWNER_DRIVERS\\\" dri ON dri.id=pl.OWNER_DRIVER_ID  WHERE  date_entry between       to_date(:fecha_inicial, 'dd/mm/yyyy hh24:mi:ss') and     to_date(:fecha_final, 'dd/mm/yyyy hh24:mi:ss') and ev.PAGE = 1  AND   incidents.plate in(\" + plates + \")  and incidents.event_id in(\" + events + \")  ORDER BY incidents.plate ASC, date_entry desc\"\n",
    "    print(sql)\n",
    "    curs = conn.cursor()\n",
    "    curs.prepare(sql)\n",
    "\n",
    "\n",
    "    #print(plates)\n",
    "    curs.execute(None, \n",
    "                 {'owner_id': args.get('owner_id'),  \n",
    "                  'fecha_inicial': args.get('fecha_inicial') ,  \n",
    "                  'fecha_final': args.get('fecha_final')\n",
    "                 \n",
    "                 }\n",
    "                 \n",
    "                \n",
    "                )\n",
    "    df2 = DataFrame(curs.fetchall())\n",
    "    data_incidents = df2\n",
    "    c = 0\n",
    "    column_names = []\n",
    "    for column in curs.description:\n",
    "        column_names.append(curs.description[c][0])\n",
    "        c += 1\n",
    "    #print(column_names)\n",
    "    data_incidents.columns = column_names\n",
    "    conn.close()\n",
    "    return data_incidents\n"
   ]
  },
  {
   "cell_type": "code",
   "execution_count": null,
   "metadata": {},
   "outputs": [],
   "source": []
  },
  {
   "cell_type": "code",
   "execution_count": 10,
   "metadata": {},
   "outputs": [],
   "source": [
    "def query_historics(args):\n",
    "    conn = cx_Oracle.connect(\"skytech\", \"skytech\", \"oracle.geotech.com.co/geotech\")\n",
    "    plates =  args.get('plates').replace('[','').replace(']','').replace('\"', '\\'')  \n",
    "    \n",
    "    \n",
    "    events = []\n",
    "    for e in args.get('event_ids').replace('[','').replace(']','').replace('\"', '\\'').split(','):\n",
    "            events.append(str(e))\n",
    "\n",
    "            \n",
    "    events =  str(args.get('event_ids')).replace('[','').replace(']','').replace('\"', '\\'')\n",
    "    #print(events)\n",
    "    #print(plates)\n",
    "    sql = \"SELECT /*+ index(historics,HISTORICS_INDEX3CDESC) */ historics.ID, historics.PLATE, historics.ADDRESS,X, Y, DATE_ENTRY as date_entry_date , DATE_SYSTEM AS date_system_date,to_char( DATE_ENTRY, 'dd/mm/yyyy hh24:mi:ss' ) as DATE_ENTRY , to_char( DATE_SYSTEM, 'dd/mm/yyyy hh24:mi:ss' ) as DATE_SYSTEM ,to_timestamp( to_char(DATE_ENTRY, 'dd/mm/yyyy hh24:mi:ss'), 'dd/mm/yyyy hh24:mi:ss' ) as date_time_entry ,ORIENTATION,SPEED,historics.MOBILE_ID,historics.EVENT_ID,'' as VALUE,'posicion_gps' as DESCRIPTION_EVENT,'posicion_gps' as event_name,BATTERY,SHEET,null as camera  ,historics.INTERNAL_CODE  FROM \\\"HISTORICS\\\" left join  \\\"OWNER_PLATES\\\" pl ON pl.plate=\\\"HISTORICS\\\".plate and pl.owner_id = :owner_id left join  \\\"OWNER_EVENTS\\\" ev ON ev.event_id=\\\"HISTORICS\\\".event_id and ev.owner_id = :owner_id left join  \\\"OWNER_DRIVERS\\\" dri ON dri.id=pl.OWNER_DRIVER_ID  WHERE  date_entry between       to_date(:fecha_inicial, 'dd/mm/yyyy hh24:mi:ss') and     to_date(:fecha_final, 'dd/mm/yyyy hh24:mi:ss') and ev.PAGE = 1  AND   \\\"HISTORICS\\\".plate in(\" + plates + \")  and \\\"HISTORICS\\\".event_id in(\" + events + \")  ORDER BY \\\"HISTORICS\\\".plate ASC, date_entry desc\"\n",
    "    print(sql)\n",
    "    curs = conn.cursor()\n",
    "    curs.prepare(sql)\n",
    "\n",
    "\n",
    "    #print(plates)\n",
    "    curs.execute(None, \n",
    "                 {'owner_id': args.get('owner_id'),  \n",
    "                  'fecha_inicial': args.get('fecha_inicial') ,  \n",
    "                  'fecha_final': args.get('fecha_final')\n",
    "                 \n",
    "                 }\n",
    "                 \n",
    "                \n",
    "                )\n",
    "    df2 = DataFrame(curs.fetchall())\n",
    "    data_historics = df2\n",
    "    c = 0\n",
    "    column_names = []\n",
    "    for column in curs.description:\n",
    "        column_names.append(curs.description[c][0])\n",
    "        c += 1\n",
    "    #print(column_names)\n",
    "    try:\n",
    "        data_historics.columns = column_names\n",
    "    except:\n",
    "        data_historics.columns = data_historics.columns\n",
    "    conn.close()\n",
    "    return data_historics"
   ]
  },
  {
   "cell_type": "code",
   "execution_count": 11,
   "metadata": {},
   "outputs": [],
   "source": [
    "#df_all_rows.to_csv(r'/home/geotech-user/first.csv')"
   ]
  },
  {
   "cell_type": "code",
   "execution_count": 12,
   "metadata": {},
   "outputs": [],
   "source": [
    "# df_all_rows.to_excel('test.xlsx', sheet_name='sheet1', index=False)"
   ]
  },
  {
   "cell_type": "code",
   "execution_count": 15,
   "metadata": {},
   "outputs": [
    {
     "name": "stdout",
     "output_type": "stream",
     "text": [
      " * Serving Flask app \"__main__\" (lazy loading)\n",
      " * Environment: production\n",
      "   WARNING: This is a development server. Do not use it in a production deployment.\n",
      "   Use a production WSGI server instead.\n",
      " * Debug mode: off\n"
     ]
    },
    {
     "name": "stderr",
     "output_type": "stream",
     "text": [
      " * Running on http://0.0.0.0:8181/ (Press CTRL+C to quit)\n"
     ]
    }
   ],
   "source": [
    "from flask import Flask\n",
    "app = Flask(__name__)\n",
    "\n",
    "from flask import request\n",
    "from flask import send_from_directory\n",
    "\n",
    "\n",
    "@app.route('/')\n",
    "def index():\n",
    "    return 'Server Works!'\n",
    "  \n",
    "@app.route('/history_events')\n",
    "def history_events():\n",
    "    print ('hello reports')\n",
    "    \n",
    "    #print(request.args.to_dict(flat=True))\n",
    "    data_historics = query_historics(request.args.to_dict(flat=True))\n",
    "    data_incidents = query_incidents(request.args.to_dict(flat=True))\n",
    "    data_report = pd.concat([data_historics, data_incidents])\n",
    "    translaters = data_report['EVENT_NAME'].unique().tolist()\n",
    "    data_report['EVENT_NAME'] = data_report['EVENT_NAME'].apply(lambda x: translate(x, translaters))\n",
    "    #data_incidents['EVENT_NAME'] = data_incidents['EVENT_NAME'].apply(lambda x: translate(x))\n",
    "    \n",
    "    column_keys = ['PLATE', 'INTERNAL_CODE', 'DATE_ENTRY','EVENT_NAME','VALUE','ADDRESS', 'X', 'Y', 'SPEED', 'ORIENTATION', 'BATTERY', 'SHEET']\n",
    "    column_names = []\n",
    "\n",
    "    for c in column_keys:\n",
    "        column_names.append(translate(c, None))\n",
    "        \n",
    "\n",
    "    data_report = data_report[column_keys]\n",
    "    data_report.columns = column_names\n",
    "    #data_incidents = data_historics[column_keys]\n",
    "    #data_incidents.columns = column_names\n",
    "    \n",
    "    \n",
    "        \n",
    "    data_report.to_csv(r'/home/skytech/pySkytech/history_events.csv', index=False)\n",
    "    \n",
    "    print ('Hello from Server')\n",
    "    return send_from_directory('/home/skytech/pySkytech',\n",
    "                               'history_events.csv', as_attachment=True)\n",
    "\n",
    "app.run(host='0.0.0.0', port= 8181)"
   ]
  },
  {
   "cell_type": "code",
   "execution_count": null,
   "metadata": {},
   "outputs": [],
   "source": []
  },
  {
   "cell_type": "code",
   "execution_count": null,
   "metadata": {},
   "outputs": [],
   "source": []
  },
  {
   "cell_type": "code",
   "execution_count": null,
   "metadata": {},
   "outputs": [],
   "source": []
  },
  {
   "cell_type": "code",
   "execution_count": null,
   "metadata": {},
   "outputs": [],
   "source": []
  }
 ],
 "metadata": {
  "kernelspec": {
   "display_name": "Python 3",
   "language": "python",
   "name": "python3"
  },
  "language_info": {
   "codemirror_mode": {
    "name": "ipython",
    "version": 3
   },
   "file_extension": ".py",
   "mimetype": "text/x-python",
   "name": "python",
   "nbconvert_exporter": "python",
   "pygments_lexer": "ipython3",
   "version": "3.7.4"
  }
 },
 "nbformat": 4,
 "nbformat_minor": 2
}
