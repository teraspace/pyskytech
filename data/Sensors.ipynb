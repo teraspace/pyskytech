{
 "cells": [
  {
   "cell_type": "code",
   "execution_count": 1,
   "metadata": {},
   "outputs": [],
   "source": [
    "import pandas as pd\n",
    "import numpy as np\n",
    "\n",
    "from histdata import download_hist_data as dl\n",
    "from histdata.api import Platform as P, TimeFrame as TF\n",
    "\n",
    "\n",
    "\n"
   ]
  },
  {
   "cell_type": "code",
   "execution_count": 41,
   "metadata": {},
   "outputs": [
    {
     "name": "stdout",
     "output_type": "stream",
     "text": [
      "https://www.histdata.com/download-free-forex-historical-data/?/metatrader/1-minute-bar-quotes/eurusd/2019\n",
      "{'tk': '1507800ad3526972923b836be67de982', 'date': '2019', 'datemonth': '2019', 'platform': 'MT', 'timeframe': 'M1', 'fxpair': 'EURUSD'}\n",
      "Wrote to .\\DAT_MT_EURUSD_M1_2019.zip\n"
     ]
    },
    {
     "data": {
      "text/plain": [
       "'.\\\\DAT_MT_EURUSD_M1_2019.zip'"
      ]
     },
     "execution_count": 41,
     "metadata": {},
     "output_type": "execute_result"
    }
   ],
   "source": [
    "dl(year='2019', month=None, pair='eurusd', platform=P.META_TRADER, time_frame=TF.ONE_MINUTE)\n"
   ]
  },
  {
   "cell_type": "code",
   "execution_count": 93,
   "metadata": {},
   "outputs": [],
   "source": [
    "!unzip -p 'DAT_MT_EURUSD_M1_2019.zip'\n",
    "data_frame = pd.read_csv('DAT_MT_EURUSD_M1_2019.csv', names=['Date','Time', 'Open', 'High','Low','Close', 'Volume'])"
   ]
  },
  {
   "cell_type": "code",
   "execution_count": 94,
   "metadata": {},
   "outputs": [],
   "source": [
    "data_frame['DateTime'] = data_frame['Date'] + ' ' + data_frame['Time']\n",
    "del data_frame['Date']\n",
    "del data_frame['Time']"
   ]
  },
  {
   "cell_type": "code",
   "execution_count": 95,
   "metadata": {},
   "outputs": [
    {
     "data": {
      "text/plain": [
       "Index(['2019.01.01 17:02', '2019.01.01 17:03', '2019.01.01 17:04',\n",
       "       '2019.01.01 17:05', '2019.01.01 17:06', '2019.01.01 17:07',\n",
       "       '2019.01.01 17:08', '2019.01.01 17:09', '2019.01.01 17:10',\n",
       "       '2019.01.01 17:11',\n",
       "       ...\n",
       "       '2019.12.31 16:50', '2019.12.31 16:51', '2019.12.31 16:52',\n",
       "       '2019.12.31 16:53', '2019.12.31 16:54', '2019.12.31 16:55',\n",
       "       '2019.12.31 16:56', '2019.12.31 16:57', '2019.12.31 16:58',\n",
       "       '2019.12.31 16:59'],\n",
       "      dtype='object', name='DateTime', length=372530)"
      ]
     },
     "execution_count": 95,
     "metadata": {},
     "output_type": "execute_result"
    }
   ],
   "source": [
    "\n",
    "column_names =['DateTime', 'Open', 'High','Low','Close', 'Volume']\n",
    "data_frame.set_index('DateTime',inplace=True)\n",
    "\n",
    "\n",
    "\n",
    "\n",
    "data_frame.index"
   ]
  },
  {
   "cell_type": "code",
   "execution_count": 96,
   "metadata": {},
   "outputs": [],
   "source": [
    "data_frame.index = pd.to_datetime(data_frame.index)"
   ]
  },
  {
   "cell_type": "code",
   "execution_count": 97,
   "metadata": {},
   "outputs": [],
   "source": [
    "data_ask = data_frame['Open'].resample('15Min').ohlc()"
   ]
  },
  {
   "cell_type": "code",
   "execution_count": 99,
   "metadata": {},
   "outputs": [],
   "source": [
    "data_ask['volume'] = data_ask['high'] - data_ask['low']"
   ]
  },
  {
   "cell_type": "code",
   "execution_count": 100,
   "metadata": {},
   "outputs": [
    {
     "data": {
      "text/html": [
       "<div>\n",
       "<style scoped>\n",
       "    .dataframe tbody tr th:only-of-type {\n",
       "        vertical-align: middle;\n",
       "    }\n",
       "\n",
       "    .dataframe tbody tr th {\n",
       "        vertical-align: top;\n",
       "    }\n",
       "\n",
       "    .dataframe thead th {\n",
       "        text-align: right;\n",
       "    }\n",
       "</style>\n",
       "<table border=\"1\" class=\"dataframe\">\n",
       "  <thead>\n",
       "    <tr style=\"text-align: right;\">\n",
       "      <th></th>\n",
       "      <th>open</th>\n",
       "      <th>high</th>\n",
       "      <th>low</th>\n",
       "      <th>close</th>\n",
       "      <th>volume</th>\n",
       "    </tr>\n",
       "    <tr>\n",
       "      <th>DateTime</th>\n",
       "      <th></th>\n",
       "      <th></th>\n",
       "      <th></th>\n",
       "      <th></th>\n",
       "      <th></th>\n",
       "    </tr>\n",
       "  </thead>\n",
       "  <tbody>\n",
       "    <tr>\n",
       "      <th>2019-01-01 17:00:00</th>\n",
       "      <td>1.14598</td>\n",
       "      <td>1.14665</td>\n",
       "      <td>1.14598</td>\n",
       "      <td>1.14607</td>\n",
       "      <td>0.00067</td>\n",
       "    </tr>\n",
       "    <tr>\n",
       "      <th>2019-01-01 17:15:00</th>\n",
       "      <td>1.14607</td>\n",
       "      <td>1.14617</td>\n",
       "      <td>1.14605</td>\n",
       "      <td>1.14605</td>\n",
       "      <td>0.00012</td>\n",
       "    </tr>\n",
       "    <tr>\n",
       "      <th>2019-01-01 17:30:00</th>\n",
       "      <td>1.14611</td>\n",
       "      <td>1.14626</td>\n",
       "      <td>1.14605</td>\n",
       "      <td>1.14626</td>\n",
       "      <td>0.00021</td>\n",
       "    </tr>\n",
       "    <tr>\n",
       "      <th>2019-01-01 17:45:00</th>\n",
       "      <td>1.14627</td>\n",
       "      <td>1.14628</td>\n",
       "      <td>1.14605</td>\n",
       "      <td>1.14610</td>\n",
       "      <td>0.00023</td>\n",
       "    </tr>\n",
       "    <tr>\n",
       "      <th>2019-01-01 18:00:00</th>\n",
       "      <td>1.14605</td>\n",
       "      <td>1.14664</td>\n",
       "      <td>1.14604</td>\n",
       "      <td>1.14655</td>\n",
       "      <td>0.00060</td>\n",
       "    </tr>\n",
       "    <tr>\n",
       "      <th>...</th>\n",
       "      <td>...</td>\n",
       "      <td>...</td>\n",
       "      <td>...</td>\n",
       "      <td>...</td>\n",
       "      <td>...</td>\n",
       "    </tr>\n",
       "    <tr>\n",
       "      <th>2019-12-31 15:45:00</th>\n",
       "      <td>1.12155</td>\n",
       "      <td>1.12171</td>\n",
       "      <td>1.12154</td>\n",
       "      <td>1.12171</td>\n",
       "      <td>0.00017</td>\n",
       "    </tr>\n",
       "    <tr>\n",
       "      <th>2019-12-31 16:00:00</th>\n",
       "      <td>1.12174</td>\n",
       "      <td>1.12174</td>\n",
       "      <td>1.12142</td>\n",
       "      <td>1.12147</td>\n",
       "      <td>0.00032</td>\n",
       "    </tr>\n",
       "    <tr>\n",
       "      <th>2019-12-31 16:15:00</th>\n",
       "      <td>1.12147</td>\n",
       "      <td>1.12148</td>\n",
       "      <td>1.12138</td>\n",
       "      <td>1.12142</td>\n",
       "      <td>0.00010</td>\n",
       "    </tr>\n",
       "    <tr>\n",
       "      <th>2019-12-31 16:30:00</th>\n",
       "      <td>1.12143</td>\n",
       "      <td>1.12150</td>\n",
       "      <td>1.12137</td>\n",
       "      <td>1.12142</td>\n",
       "      <td>0.00013</td>\n",
       "    </tr>\n",
       "    <tr>\n",
       "      <th>2019-12-31 16:45:00</th>\n",
       "      <td>1.12136</td>\n",
       "      <td>1.12137</td>\n",
       "      <td>1.12099</td>\n",
       "      <td>1.12099</td>\n",
       "      <td>0.00038</td>\n",
       "    </tr>\n",
       "  </tbody>\n",
       "</table>\n",
       "<p>34944 rows × 5 columns</p>\n",
       "</div>"
      ],
      "text/plain": [
       "                        open     high      low    close   volume\n",
       "DateTime                                                        \n",
       "2019-01-01 17:00:00  1.14598  1.14665  1.14598  1.14607  0.00067\n",
       "2019-01-01 17:15:00  1.14607  1.14617  1.14605  1.14605  0.00012\n",
       "2019-01-01 17:30:00  1.14611  1.14626  1.14605  1.14626  0.00021\n",
       "2019-01-01 17:45:00  1.14627  1.14628  1.14605  1.14610  0.00023\n",
       "2019-01-01 18:00:00  1.14605  1.14664  1.14604  1.14655  0.00060\n",
       "...                      ...      ...      ...      ...      ...\n",
       "2019-12-31 15:45:00  1.12155  1.12171  1.12154  1.12171  0.00017\n",
       "2019-12-31 16:00:00  1.12174  1.12174  1.12142  1.12147  0.00032\n",
       "2019-12-31 16:15:00  1.12147  1.12148  1.12138  1.12142  0.00010\n",
       "2019-12-31 16:30:00  1.12143  1.12150  1.12137  1.12142  0.00013\n",
       "2019-12-31 16:45:00  1.12136  1.12137  1.12099  1.12099  0.00038\n",
       "\n",
       "[34944 rows x 5 columns]"
      ]
     },
     "execution_count": 100,
     "metadata": {},
     "output_type": "execute_result"
    }
   ],
   "source": [
    "data_ask"
   ]
  },
  {
   "cell_type": "code",
   "execution_count": null,
   "metadata": {},
   "outputs": [],
   "source": [
    "data_ask.columns"
   ]
  },
  {
   "cell_type": "code",
   "execution_count": null,
   "metadata": {},
   "outputs": [],
   "source": []
  }
 ],
 "metadata": {
  "kernelspec": {
   "display_name": "Python 3",
   "language": "python",
   "name": "python3"
  },
  "language_info": {
   "codemirror_mode": {
    "name": "ipython",
    "version": 3
   },
   "file_extension": ".py",
   "mimetype": "text/x-python",
   "name": "python",
   "nbconvert_exporter": "python",
   "pygments_lexer": "ipython3",
   "version": "3.7.6"
  }
 },
 "nbformat": 4,
 "nbformat_minor": 4
}
