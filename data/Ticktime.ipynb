{
 "cells": [
  {
   "cell_type": "code",
   "execution_count": 1,
   "metadata": {},
   "outputs": [
    {
     "name": "stderr",
     "output_type": "stream",
     "text": [
      "E:\\Anaconda3\\lib\\site-packages\\mpl_finance.py:22: DeprecationWarning: \n",
      "\n",
      "  =================================================================\n",
      "\n",
      "   WARNING: `mpl_finance` is deprecated:\n",
      "\n",
      "    Please use `mplfinance` instead (no hyphen, no underscore).\n",
      "\n",
      "    To install: `pip install --upgrade mplfinance` \n",
      "\n",
      "   For more information, see: https://pypi.org/project/mplfinance/\n",
      "\n",
      "  =================================================================\n",
      "\n",
      "  category=DeprecationWarning)\n"
     ]
    }
   ],
   "source": [
    "import pandas as pd\n",
    "import numpy as np\n",
    "\n",
    "from histdata import download_hist_data as dl\n",
    "from histdata.api import Platform as P, TimeFrame as TF\n",
    "\n",
    "\n",
    "import matplotlib.pyplot as plt\n",
    "from mpl_finance import candlestick_ohlc\n",
    "import pandas as pd\n",
    "import matplotlib.dates as mpl_dates\n",
    "import matplotlib.dates as mdates\n",
    "import mplfinance as mpf\n",
    "import plotly.graph_objects as go\n"
   ]
  },
  {
   "cell_type": "code",
   "execution_count": 2,
   "metadata": {},
   "outputs": [
    {
     "name": "stdout",
     "output_type": "stream",
     "text": [
      "https://www.histdata.com/download-free-forex-historical-data/?/ascii/tick-data-quotes/eurusd/2019/6\n",
      "{'tk': 'bf6856b7e2ab03811c92d3253e89a88d', 'date': '2019', 'datemonth': '201906', 'platform': 'ASCII', 'timeframe': 'T', 'fxpair': 'EURUSD'}\n",
      "Wrote to .\\DAT_ASCII_EURUSD_T_201906.zip\n"
     ]
    },
    {
     "data": {
      "text/plain": [
       "'.\\\\DAT_ASCII_EURUSD_T_201906.zip'"
      ]
     },
     "execution_count": 2,
     "metadata": {},
     "output_type": "execute_result"
    }
   ],
   "source": [
    "dl(year='2019', month='6', pair='eurusd', platform=P.GENERIC_ASCII, time_frame=TF.TICK_DATA)\n"
   ]
  },
  {
   "cell_type": "code",
   "execution_count": null,
   "metadata": {},
   "outputs": [],
   "source": []
  },
  {
   "cell_type": "code",
   "execution_count": 3,
   "metadata": {},
   "outputs": [],
   "source": [
    "!unzip -p 'DAT_ASCII_EURUSD_T_201906.zip'\n"
   ]
  },
  {
   "cell_type": "code",
   "execution_count": 4,
   "metadata": {},
   "outputs": [],
   "source": [
    "my_dtypes = {'Date': 'str', 'Bid': 'float', 'Ask': 'float', 'Volume': 'int'}"
   ]
  },
  {
   "cell_type": "code",
   "execution_count": 5,
   "metadata": {},
   "outputs": [],
   "source": [
    "do = pd.read_csv('DAT_ASCII_EURUSD_T_201906.csv', names=['Date','Bid', 'Ask', 'Volume'], dtype=my_dtypes)\n",
    "data_frame = do"
   ]
  },
  {
   "cell_type": "code",
   "execution_count": 6,
   "metadata": {},
   "outputs": [],
   "source": [
    "\n",
    "# new data frame with split value columns \n",
    "new = data_frame[\"Date\"].str.split(\" \", n = 1, expand = True) \n",
    "  \n",
    "# making separate first name column from new data frame \n",
    "data_frame[\"Date\"]= new[0] \n",
    "  \n",
    "# making separate last name column from new data frame \n",
    "data_frame[\"Time\"]= new[1] \n",
    "do = data_frame"
   ]
  },
  {
   "cell_type": "code",
   "execution_count": 7,
   "metadata": {},
   "outputs": [],
   "source": [
    "data_frame = do"
   ]
  },
  {
   "cell_type": "code",
   "execution_count": 8,
   "metadata": {},
   "outputs": [],
   "source": [
    "data_frame['date'] = pd.to_datetime(data_frame.Date.astype(str) + data_frame.Time.astype(str).str.zfill(9),\n",
    "                                format='%Y%m%d%H%M%S%f')\n",
    "\n",
    "column_names = ['date','Date','Time','Bid', 'Ask', 'Volume']\n",
    "data_frame = data_frame[column_names]\n",
    "del data_frame['Date']\n",
    "del data_frame['Time']\n",
    "data_frame.index = pd.to_datetime(data_frame.index, unit='s')\n",
    "data_frame = data_frame.set_index('date')\n",
    "data_frame.index = pd.to_datetime(data_frame.index)"
   ]
  },
  {
   "cell_type": "code",
   "execution_count": 9,
   "metadata": {},
   "outputs": [
    {
     "data": {
      "text/html": [
       "<div>\n",
       "<style scoped>\n",
       "    .dataframe tbody tr th:only-of-type {\n",
       "        vertical-align: middle;\n",
       "    }\n",
       "\n",
       "    .dataframe tbody tr th {\n",
       "        vertical-align: top;\n",
       "    }\n",
       "\n",
       "    .dataframe thead th {\n",
       "        text-align: right;\n",
       "    }\n",
       "</style>\n",
       "<table border=\"1\" class=\"dataframe\">\n",
       "  <thead>\n",
       "    <tr style=\"text-align: right;\">\n",
       "      <th></th>\n",
       "      <th>Bid</th>\n",
       "      <th>Ask</th>\n",
       "      <th>Volume</th>\n",
       "    </tr>\n",
       "    <tr>\n",
       "      <th>date</th>\n",
       "      <th></th>\n",
       "      <th></th>\n",
       "      <th></th>\n",
       "    </tr>\n",
       "  </thead>\n",
       "  <tbody>\n",
       "    <tr>\n",
       "      <th>2019-06-02 17:01:02.358</th>\n",
       "      <td>1.11607</td>\n",
       "      <td>1.11683</td>\n",
       "      <td>0</td>\n",
       "    </tr>\n",
       "    <tr>\n",
       "      <th>2019-06-02 17:01:03.578</th>\n",
       "      <td>1.11607</td>\n",
       "      <td>1.11688</td>\n",
       "      <td>0</td>\n",
       "    </tr>\n",
       "    <tr>\n",
       "      <th>2019-06-02 17:01:04.408</th>\n",
       "      <td>1.11607</td>\n",
       "      <td>1.11692</td>\n",
       "      <td>0</td>\n",
       "    </tr>\n",
       "    <tr>\n",
       "      <th>2019-06-02 17:01:52.880</th>\n",
       "      <td>1.11613</td>\n",
       "      <td>1.11692</td>\n",
       "      <td>0</td>\n",
       "    </tr>\n",
       "    <tr>\n",
       "      <th>2019-06-02 17:01:53.649</th>\n",
       "      <td>1.11630</td>\n",
       "      <td>1.11691</td>\n",
       "      <td>0</td>\n",
       "    </tr>\n",
       "    <tr>\n",
       "      <th>...</th>\n",
       "      <td>...</td>\n",
       "      <td>...</td>\n",
       "      <td>...</td>\n",
       "    </tr>\n",
       "    <tr>\n",
       "      <th>2019-06-30 23:59:35.751</th>\n",
       "      <td>1.13526</td>\n",
       "      <td>1.13529</td>\n",
       "      <td>0</td>\n",
       "    </tr>\n",
       "    <tr>\n",
       "      <th>2019-06-30 23:59:37.212</th>\n",
       "      <td>1.13526</td>\n",
       "      <td>1.13528</td>\n",
       "      <td>0</td>\n",
       "    </tr>\n",
       "    <tr>\n",
       "      <th>2019-06-30 23:59:37.316</th>\n",
       "      <td>1.13526</td>\n",
       "      <td>1.13529</td>\n",
       "      <td>0</td>\n",
       "    </tr>\n",
       "    <tr>\n",
       "      <th>2019-06-30 23:59:53.813</th>\n",
       "      <td>1.13526</td>\n",
       "      <td>1.13528</td>\n",
       "      <td>0</td>\n",
       "    </tr>\n",
       "    <tr>\n",
       "      <th>2019-06-30 23:59:57.184</th>\n",
       "      <td>1.13526</td>\n",
       "      <td>1.13529</td>\n",
       "      <td>0</td>\n",
       "    </tr>\n",
       "  </tbody>\n",
       "</table>\n",
       "<p>2473606 rows × 3 columns</p>\n",
       "</div>"
      ],
      "text/plain": [
       "                             Bid      Ask  Volume\n",
       "date                                             \n",
       "2019-06-02 17:01:02.358  1.11607  1.11683       0\n",
       "2019-06-02 17:01:03.578  1.11607  1.11688       0\n",
       "2019-06-02 17:01:04.408  1.11607  1.11692       0\n",
       "2019-06-02 17:01:52.880  1.11613  1.11692       0\n",
       "2019-06-02 17:01:53.649  1.11630  1.11691       0\n",
       "...                          ...      ...     ...\n",
       "2019-06-30 23:59:35.751  1.13526  1.13529       0\n",
       "2019-06-30 23:59:37.212  1.13526  1.13528       0\n",
       "2019-06-30 23:59:37.316  1.13526  1.13529       0\n",
       "2019-06-30 23:59:53.813  1.13526  1.13528       0\n",
       "2019-06-30 23:59:57.184  1.13526  1.13529       0\n",
       "\n",
       "[2473606 rows x 3 columns]"
      ]
     },
     "execution_count": 9,
     "metadata": {},
     "output_type": "execute_result"
    }
   ],
   "source": [
    "data_frame"
   ]
  },
  {
   "cell_type": "code",
   "execution_count": null,
   "metadata": {},
   "outputs": [],
   "source": [
    "#data_frame.index =  mdates.date2num(data_frame.index)\n",
    "\n",
    "data_bid = data_frame['Bid'].resample('240Min').ohlc()\n",
    "data_bid['volume'] = data_bid['high'] - data_bid['low']\n",
    "\n",
    "data_bid = data_bid.rename(columns={\"open\": \"Open\", \"high\": \"High\", \"low\": \"Low\", \"close\": \"Close\", \"volume\": \"Volume\"})\n"
   ]
  },
  {
   "cell_type": "code",
   "execution_count": null,
   "metadata": {},
   "outputs": [],
   "source": [
    "mpf.plot(data_bid,type='ohlc',mav=4)"
   ]
  },
  {
   "cell_type": "code",
   "execution_count": null,
   "metadata": {},
   "outputs": [],
   "source": [
    "plt.style.use('ggplot')"
   ]
  },
  {
   "cell_type": "code",
   "execution_count": null,
   "metadata": {},
   "outputs": [],
   "source": [
    "data_bid = data_bid.dropna()\n"
   ]
  },
  {
   "cell_type": "code",
   "execution_count": null,
   "metadata": {},
   "outputs": [],
   "source": [
    "# Setting labels & titles\n",
    "from mpl_finance import candlestick_ohlc\n",
    "\n",
    "ax = plt.subplot()\n",
    "ax.grid(True)\n",
    "ax.set_axisbelow(True)\n",
    "ax.set_title('AAPL Share Price', color='white')\n",
    "ax.set_facecolor('black')\n",
    "ax.figure.set_facecolor('#121212')\n",
    "ax.tick_params(axis='x', colors='white')\n",
    "\n",
    "ax.xaxis_date()\n",
    "candlestick_ohlc(ax, data_bid)\n",
    "ax.xaxis_date()\n",
    "\n",
    "\n",
    "plt.show()"
   ]
  },
  {
   "cell_type": "code",
   "execution_count": null,
   "metadata": {},
   "outputs": [],
   "source": [
    "data_frame"
   ]
  },
  {
   "cell_type": "code",
   "execution_count": null,
   "metadata": {},
   "outputs": [],
   "source": [
    "fig = go.Figure(data=[go.Candlestick(x=data_bid.index,\n",
    "                open=data_bid['Open'],\n",
    "                high=data_bid['High'],\n",
    "                low=data_bid['Low'],\n",
    "                close=data_bid['Close'])])\n",
    "\n",
    "fig.show()"
   ]
  },
  {
   "cell_type": "code",
   "execution_count": null,
   "metadata": {},
   "outputs": [],
   "source": [
    "data_bid"
   ]
  },
  {
   "cell_type": "code",
   "execution_count": null,
   "metadata": {},
   "outputs": [],
   "source": []
  }
 ],
 "metadata": {
  "kernelspec": {
   "display_name": "Python 3",
   "language": "python",
   "name": "python3"
  },
  "language_info": {
   "codemirror_mode": {
    "name": "ipython",
    "version": 3
   },
   "file_extension": ".py",
   "mimetype": "text/x-python",
   "name": "python",
   "nbconvert_exporter": "python",
   "pygments_lexer": "ipython3",
   "version": "3.6.10"
  }
 },
 "nbformat": 4,
 "nbformat_minor": 4
}
